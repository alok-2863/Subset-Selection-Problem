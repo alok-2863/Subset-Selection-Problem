{
  "nbformat": 4,
  "nbformat_minor": 0,
  "metadata": {
    "colab": {
      "provenance": [],
      "authorship_tag": "ABX9TyNTszwbtCjd5D2jNxyA2osd",
      "include_colab_link": true
    },
    "kernelspec": {
      "name": "python3",
      "display_name": "Python 3"
    },
    "language_info": {
      "name": "python"
    }
  },
  "cells": [
    {
      "cell_type": "markdown",
      "metadata": {
        "id": "view-in-github",
        "colab_type": "text"
      },
      "source": [
        "<a href=\"https://colab.research.google.com/github/alok-2863/Subset-Selection-Problem/blob/main/Subset_Selection_Problem.ipynb\" target=\"_parent\"><img src=\"https://colab.research.google.com/assets/colab-badge.svg\" alt=\"Open In Colab\"/></a>"
      ]
    },
    {
      "cell_type": "markdown",
      "source": [
        "![image.png](data:image/png;base64,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)"
      ],
      "metadata": {
        "id": "830tKbUtBYzZ"
      }
    },
    {
      "cell_type": "code",
      "execution_count": 11,
      "metadata": {
        "colab": {
          "base_uri": "https://localhost:8080/"
        },
        "id": "FcWn0tLp_pRy",
        "outputId": "d522f90b-f33a-44a9-99a6-f3ad694119a9"
      },
      "outputs": [
        {
          "output_type": "stream",
          "name": "stdout",
          "text": [
            "\n",
            "Total Sets: 24 \n",
            "\n",
            "(-12, -6, 2, 7, 9)\n",
            "(-12, -3, 2, 6, 7)\n",
            "(-9, -8, -3, 9, 11)\n",
            "(-8, -6, -4, 7, 11)\n",
            "(-8, -4, -3, 6, 9)\n",
            "(-8, -5, -4, 6, 11)\n",
            "(-7, -3, 1, 3, 6)\n",
            "(-9, -5, 1, 2, 11)\n",
            "(-8, -6, 1, 6, 7)\n",
            "(-9, -5, 2, 3, 9)\n",
            "(-9, -4, -3, 7, 9)\n",
            "(-12, 1, 2, 3, 6)\n",
            "(-8, -3, -2, 6, 7)\n",
            "(-4, -2, 1, 2, 3)\n",
            "(-8, -6, -3, 6, 11)\n",
            "(-8, -5, -2, 6, 9)\n",
            "(-8, -2, 1, 3, 6)\n",
            "(-9, -8, 1, 7, 9)\n",
            "(-9, -6, -5, 9, 11)\n",
            "(-6, -5, -4, 6, 9)\n",
            "(-7, -6, -3, 7, 9)\n",
            "(-6, -3, -2, 2, 9)\n",
            "(-7, -5, -3, 6, 9)\n",
            "(-8, -5, -3, 7, 9)\n"
          ]
        }
      ],
      "source": [
        "#-------------------------------------------------------------\n",
        "# Step 1: Library inclusion                             \n",
        "#-------------------------------------------------------------\n",
        "import random as r\n",
        "\n",
        "\n",
        "#-------------------------------------------------------------\n",
        "# Step 2: Parameter Setting\n",
        "#-------------------------------------------------------------\n",
        "Set         = set([-12, -3, -6, 7, 2, -2, 6, 3, 9, -7, -5, -8, 1, 11, -9, -4])\n",
        "ResultList  = set()    # Store Result List i.e. list of sets whose sum is zero\n",
        "Iterations  = 1000   # Number of Inerations\n",
        "\n",
        "\n",
        "#-------------------------------------------------------------\n",
        "# Step3: Start Program\n",
        "#-------------------------------------------------------------\n",
        "\n",
        "# Loop till number of Iterations\n",
        "for i in range(Iterations):\n",
        "    \n",
        "    # Select number of elements from Set\n",
        "    Chromosome = r.sample(list(Set),5)\n",
        "    Chromosome.sort()\n",
        "\n",
        "    # Sum the number of elements in the Chromosome\n",
        "    if sum(Chromosome) == 0:\n",
        "        ResultList.add(tuple(Chromosome))\n",
        "\n",
        "# Print total sets\n",
        "print (\"\\nTotal Sets: %d \\n\" %(len(ResultList)))\n",
        "# Print all the sets whose sum is zero\n",
        "for r in ResultList:\n",
        "\tprint (r)\n",
        "\n"
      ]
    },
    {
      "cell_type": "markdown",
      "source": [
        "![image.png](data:image/png;base64,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)"
      ],
      "metadata": {
        "id": "WOALIwIjCw2u"
      }
    },
    {
      "cell_type": "code",
      "source": [
        "#-------------------------------------------------------------\n",
        "# Step 1: Library inclusion                             \n",
        "#-------------------------------------------------------------\n",
        "import random as r\n",
        "\n",
        "\n",
        "#-------------------------------------------------------------\n",
        "# Step 2: Parameter Setting\n",
        "#-------------------------------------------------------------\n",
        "Set         = set([-12, -3, -6, 7, 2, -2, 6, 3, 9, -7, -5, -8, 1, 11, -9, -4])\n",
        "ResultList  = set()    # Store Result List i.e. list of sets whose sum is zero\n",
        "Iterations  = 1000   # Number of Inerations\n",
        "\n",
        "\n",
        "#-------------------------------------------------------------\n",
        "# Step3: Start Program\n",
        "#-------------------------------------------------------------\n",
        "\n",
        "# Loop till number of Iterations\n",
        "for i in range(Iterations):\n",
        "    # Select set size randomly\n",
        "    SetSize = r.randint(3,6)\n",
        "    \n",
        "    # Select number of elements from Set\n",
        "    Chromosome = r.sample(list(Set),SetSize)\n",
        "    Chromosome.sort()\n",
        "\n",
        "    # Sum the number of elements in the Chromosome\n",
        "    if sum(Chromosome) == 0:\n",
        "        ResultList.add(tuple(Chromosome))\n",
        "\n",
        "# Print total sets\n",
        "print (\"\\nTotal Sets: %d \\n\" %(len(ResultList)))\n",
        "# Print all the sets whose sum is zero\n",
        "for r in ResultList:\n",
        "\tprint (r)\n",
        "\n"
      ],
      "metadata": {
        "colab": {
          "base_uri": "https://localhost:8080/"
        },
        "id": "yYdy9U6dCxdA",
        "outputId": "ef8f7380-54ab-42e8-f01e-4ca9c9b09aa2"
      },
      "execution_count": 13,
      "outputs": [
        {
          "output_type": "stream",
          "name": "stdout",
          "text": [
            "\n",
            "Total Sets: 39 \n",
            "\n",
            "(-12, -6, 3, 6, 9)\n",
            "(-12, -3, -2, 2, 6, 9)\n",
            "(-12, -2, 1, 6, 7)\n",
            "(-12, 3, 9)\n",
            "(-6, -2, 2, 6)\n",
            "(-9, -7, -4, 9, 11)\n",
            "(-5, -3, 2, 6)\n",
            "(-6, -3, -2, 11)\n",
            "(-8, -5, -3, 2, 3, 11)\n",
            "(-7, -6, -4, 2, 6, 9)\n",
            "(-9, -4, -3, 7, 9)\n",
            "(-4, -2, 1, 2, 3)\n",
            "(-5, -2, 1, 6)\n",
            "(-6, 1, 2, 3)\n",
            "(-9, -6, -3, 7, 11)\n",
            "(-7, -4, 11)\n",
            "(-6, -5, -2, 2, 11)\n",
            "(-9, -2, 11)\n",
            "(-6, -3, 9)\n",
            "(-4, -2, 6)\n",
            "(-12, -2, 1, 2, 11)\n",
            "(-9, -6, -3, 1, 6, 11)\n",
            "(-12, -4, -2, 7, 11)\n",
            "(-12, -6, 7, 11)\n",
            "(-5, -2, 7)\n",
            "(-8, -3, -2, 2, 11)\n",
            "(-6, -5, 11)\n",
            "(-8, -7, -5, 3, 6, 11)\n",
            "(-12, -6, -2, 2, 7, 11)\n",
            "(-9, -8, -6, 3, 9, 11)\n",
            "(-5, -4, 9)\n",
            "(-12, -8, 1, 2, 6, 11)\n",
            "(-8, -6, -4, -2, 9, 11)\n",
            "(-5, -4, -2, 2, 3, 6)\n",
            "(-9, -5, -2, 3, 6, 7)\n",
            "(-7, 1, 6)\n",
            "(-9, 3, 6)\n",
            "(-9, -7, -3, 2, 6, 11)\n",
            "(-3, 1, 2)\n"
          ]
        }
      ]
    }
  ]
}